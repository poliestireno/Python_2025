{
  "nbformat": 4,
  "nbformat_minor": 0,
  "metadata": {
    "colab": {
      "provenance": [],
      "history_visible": true,
      "authorship_tag": "ABX9TyPIEdQ5TGKhRRsq73URNE1Z",
      "include_colab_link": true
    },
    "kernelspec": {
      "name": "python3",
      "display_name": "Python 3"
    },
    "language_info": {
      "name": "python"
    }
  },
  "cells": [
    {
      "cell_type": "markdown",
      "metadata": {
        "id": "view-in-github",
        "colab_type": "text"
      },
      "source": [
        "<a href=\"https://colab.research.google.com/github/poliestireno/Python_2025/blob/main/cuaderno01.ipynb\" target=\"_parent\"><img src=\"https://colab.research.google.com/assets/colab-badge.svg\" alt=\"Open In Colab\"/></a>"
      ]
    },
    {
      "cell_type": "code",
      "execution_count": 5,
      "metadata": {
        "colab": {
          "base_uri": "https://localhost:8080/"
        },
        "id": "x88O9cCy09Gn",
        "outputId": "445350b2-457b-4b1b-a95b-e6ff0ff5df75"
      },
      "outputs": [
        {
          "output_type": "stream",
          "name": "stdout",
          "text": [
            "88\n"
          ]
        }
      ],
      "source": [
        "print (88)"
      ]
    },
    {
      "cell_type": "markdown",
      "source": [
        "# trece\n",
        "## otro"
      ],
      "metadata": {
        "id": "BD8L9qUD1lap"
      }
    },
    {
      "cell_type": "code",
      "source": [
        "re = 9\n",
        "po = 90"
      ],
      "metadata": {
        "id": "3ENax6rz1s_J"
      },
      "execution_count": 6,
      "outputs": []
    },
    {
      "cell_type": "code",
      "source": [
        "re =8"
      ],
      "metadata": {
        "id": "A52o0GmG4Yvr"
      },
      "execution_count": 9,
      "outputs": []
    },
    {
      "cell_type": "code",
      "source": [
        "print (re)\n"
      ],
      "metadata": {
        "colab": {
          "base_uri": "https://localhost:8080/"
        },
        "id": "A8hZ99Sr4cIj",
        "outputId": "b46711ce-bb82-4904-e710-6235d680ea12"
      },
      "execution_count": 11,
      "outputs": [
        {
          "output_type": "stream",
          "name": "stdout",
          "text": [
            "8\n"
          ]
        }
      ]
    }
  ]
}